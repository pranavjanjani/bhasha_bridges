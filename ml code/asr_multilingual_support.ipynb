{
  "nbformat": 4,
  "nbformat_minor": 0,
  "metadata": {
    "colab": {
      "provenance": [],
      "gpuType": "T4"
    },
    "kernelspec": {
      "name": "python3",
      "display_name": "Python 3"
    },
    "language_info": {
      "name": "python"
    },
    "accelerator": "GPU"
  },
  "cells": [
    {
      "cell_type": "code",
      "source": [
        "!pip install torch datasets torchaudio pyctcdecode transformers[sentencepiece] librosa tensorflow gradio\n",
        "\n",
        "import time\n",
        "from transformers import pipeline\n",
        "import gradio as gr\n",
        "import numpy as np\n",
        "import librosa\n",
        "\n",
        "languages = [\"hindi\",\"bengali\",\"odia\",\"gujarati\"]\n",
        "\n",
        "transcriber_hindi = pipeline(\"automatic-speech-recognition\", model=\"ai4bharat/indicwav2vec-hindi\")\n",
        "transcriber_bengali = pipeline(\"automatic-speech-recognition\", model=\"ai4bharat/indicwav2vec_v1_bengali\")\n",
        "transcriber_odia = pipeline(\"automatic-speech-recognition\", model=\"ai4bharat/indicwav2vec-odia\")\n",
        "transcriber_gujarati = pipeline(\"automatic-speech-recognition\", model=\"ai4bharat/indicwav2vec_v1_gujarati\")\n",
        "# transcriber_telugu = pipeline(\"automatic-speech-recognition\", model=\"ai4bharat/indicwav2vec_v1_telugu\")\n",
        "# transcriber_sinhala = pipeline(\"automatic-speech-recognition\", model=\"ai4bharat/indicwav2vec_v1_sinhala\")\n",
        "# transcriber_tamil = pipeline(\"automatic-speech-recognition\", model=\"ai4bharat/indicwav2vec_v1_tamil\")\n",
        "# transcriber_nepali = pipeline(\"automatic-speech-recognition\", model=\"ai4bharat/indicwav2vec_v1_nepali\")\n",
        "# transcriber_marathi = pipeline(\"automatic-speech-recognition\", model=\"ai4bharat/indicwav2vec_v1_marathi\")\n",
        "\n",
        "from IPython.display import clear_output\n",
        "clear_output()"
      ],
      "metadata": {
        "id": "eKGK4Anw_bbS"
      },
      "execution_count": null,
      "outputs": []
    },
    {
      "cell_type": "code",
      "source": [
        "def resample_to_16k(audio, orig_sr):\n",
        "    y_resampled = librosa.resample(y=audio, orig_sr=orig_sr, target_sr=16000)\n",
        "    return y_resampled\n",
        "\n",
        "def transcribe(audio,lang=\"hindi\"):\n",
        "    sr,y = audio\n",
        "    y = y.astype(np.float32)\n",
        "    y/= np.max(np.abs(y))\n",
        "    y_resampled = resample_to_16k(y,sr)\n",
        "    if lang not in languages:\n",
        "        return \"No Model\",\"So Stay tuned!\"\n",
        "    pipe= eval(f'transcriber_{lang}')\n",
        "    start_time = time.time()\n",
        "    trans = pipe(y_resampled)\n",
        "    end_time = time.time()\n",
        "\n",
        "    return trans[\"text\"],(end_time-start_time)\n"
      ],
      "metadata": {
        "id": "aNaONGrTBV1N"
      },
      "execution_count": null,
      "outputs": []
    },
    {
      "cell_type": "code",
      "source": [
        "demo = gr.Interface(\n",
        "            transcribe,\n",
        "            inputs=[\"microphone\",gr.Radio([\"hindi\",\"bengali\",\"odia\",\"gujarati\"],value=\"hindi\")],\n",
        "            # inputs=[\"microphone\",gr.Radio([\"hindi\",\"bengali\",\"odia\",\"gujarati\",\"telugu\",\"sinhala\",\"tamil\",\"nepali\",\"marathi\"],value=\"hindi\")],\n",
        "            outputs=[\"text\",\"text\"],\n",
        "            examples=[[\"/content/Samples_Hindi_1.mp3\",\"hindi\"]])\n",
        "            # examples=[[\"./Samples/Hindi_1.mp3\",\"hindi\"],[\"./Samples/Hindi_2.mp3\",\"hindi\"],[\"./Samples/Tamil_1.mp3\",\"tamil\"],[\"./Samples/Tamil_2.mp3\",\"hindi\"],[\"./Samples/Nepal_1.mp3\",\"nepali\"],[\"./Samples/Nepal_2.mp3\",\"nepali\"],[\"./Samples/Marathi_1.mp3\",\"marathi\"],[\"./Samples/Marathi_2.mp3\",\"marathi\"],[\"./Samples/climate ex short.wav\",\"hindi\"]])\n",
        "demo.launch()"
      ],
      "metadata": {
        "id": "pD3f0rLwB91M"
      },
      "execution_count": null,
      "outputs": []
    },
    {
      "cell_type": "code",
      "source": [],
      "metadata": {
        "id": "VHeisgXfDEUy"
      },
      "execution_count": null,
      "outputs": []
    }
  ]
}