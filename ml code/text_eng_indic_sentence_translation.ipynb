{
  "nbformat": 4,
  "nbformat_minor": 0,
  "metadata": {
    "colab": {
      "provenance": [],
      "gpuType": "T4"
    },
    "kernelspec": {
      "name": "python3",
      "display_name": "Python 3"
    },
    "language_info": {
      "name": "python"
    },
    "accelerator": "GPU"
  },
  "cells": [
    {
      "cell_type": "code",
      "execution_count": null,
      "metadata": {
        "id": "1JHUhMxSBNTt"
      },
      "outputs": [],
      "source": [
        "!pip install huggingface transformers datasets torch torchaudio\n",
        "!git clone https://github.com/VarunGumma/IndicTransTokenizer\n",
        "%cd IndicTransTokenizer\n",
        "!pip install --editable ./\n",
        "\n",
        "from IPython.display import clear_output\n",
        "import torch\n",
        "from transformers import AutoModelForSeq2SeqLM\n",
        "from IndicTransTokenizer import IndicProcessor, IndicTransTokenizer\n",
        "\n",
        "target_languages=[\"asm_Beng\",\"ben_Beng\",\"brx_Deva\",\"doi_Deva\",\"gom_Deva\",\"guj_Gujr\",\"hin_Deva\",\"kan_Knda\",\"kas_Deva\",\"mai_Deva\",\"mal_Mlym\",\"mar_Deva\",\"mni_Beng\",\"npi_Deva\",\"ory_Orya\",\"pan_Guru\",\"san_Deva\",\"sat_Olck\",\"snd_Deva\",\"tam_Taml\",\"tel_Telu\",\"urd_Arab\"]\n",
        "\n",
        "tokenizer_en_indic = IndicTransTokenizer(direction=\"en-indic\")\n",
        "ip_en_indic = IndicProcessor(inference=True)\n",
        "model_en_indic = AutoModelForSeq2SeqLM.from_pretrained(\"ai4bharat/indictrans2-en-indic-dist-200M\", trust_remote_code=True)\n",
        "\n",
        "clear_output()"
      ]
    },
    {
      "cell_type": "markdown",
      "source": [
        "#Converting Sentences English to Indic Languages"
      ],
      "metadata": {
        "id": "9w-QYjB5ZRtf"
      }
    },
    {
      "cell_type": "code",
      "source": [
        "english_sentences = [\n",
        "    \"When I was young, I used to go to the park every day.\",\n",
        "    \"He has many old books, which he inherited from his ancestors.\",\n",
        "    \"I can't figure out how to solve my problem.\",\n",
        "    \"She is very hardworking and intelligent, which is why she got all the good marks.\",\n",
        "    \"We watched a new movie last week, which was very inspiring.\",\n",
        "    \"If you had met me at that time, we would have gone out to eat.\",\n",
        "    \"She went to the market with her sister to buy a new sari.\",\n",
        "    \"Raj told me that he is going to his grandmother's house next month.\",\n",
        "    \"All the kids were having fun at the party and were eating lots of sweets.\",\n",
        "    \"My friend has invited me to his birthday party, and I will give him a gift.\",\n",
        "]\n",
        "\n",
        "batch = ip_en_indic.preprocess_batch(english_sentences, src_lang=\"eng_Latn\", tgt_lang=target_languages[0])\n",
        "batch = tokenizer_en_indic(batch, src=True, return_tensors=\"pt\")\n",
        "\n",
        "with torch.inference_mode():\n",
        "    outputs = model_en_indic.generate(**batch, num_beams=5, num_return_sequences=1, max_length=256)\n",
        "\n",
        "outputs = tokenizer_en_indic.batch_decode(outputs, src=False)\n",
        "outputs = ip_en_indic.postprocess_batch(outputs, lang=\"hin_Deva\")"
      ],
      "metadata": {
        "id": "ES-ehK1yGFTT"
      },
      "execution_count": null,
      "outputs": []
    },
    {
      "cell_type": "code",
      "source": [
        "print(f\"Converting English to Indic Language:\\n\")\n",
        "for i in range(len(outputs)):\n",
        "    print(f\"English: {english_sentences[i]}\\nIndic Translation: {outputs[i]}\")\n",
        "    print(\"=\"*100)"
      ],
      "metadata": {
        "colab": {
          "base_uri": "https://localhost:8080/"
        },
        "id": "6G1cspwgHM1S",
        "outputId": "8a03e707-5895-4b53-cea1-05607e0ca2ad"
      },
      "execution_count": null,
      "outputs": [
        {
          "output_type": "stream",
          "name": "stdout",
          "text": [
            "Converting English to Indic Language:\n",
            "\n",
            "English: When I was young, I used to go to the park every day.\n",
            "Indic Translation: येतिय़ा मइ सৰु आछिलो, मइ प्ৰतिदिने उद्यानलै गैछिलो।\n",
            "====================================================================================================\n",
            "English: He has many old books, which he inherited from his ancestors.\n",
            "Indic Translation: तेओँৰ बहुतो पुৰणि ग्ৰन्थ आछे, यिबोৰ तेओँ निजৰ पूৰ्बपुৰुषसकलৰ पৰा उत्तৰाधिकाৰी हिचापे लाभ कৰिछिल।\n",
            "====================================================================================================\n",
            "English: I can't figure out how to solve my problem.\n",
            "Indic Translation: मइ मोৰ समस्याटो केनेकै समाधान कৰिब पाৰिम बुजि पोৱा नाइ।\n",
            "====================================================================================================\n",
            "English: She is very hardworking and intelligent, which is why she got all the good marks.\n",
            "Indic Translation: तेओँ अति कठोৰ पৰिश्ৰमी आৰु बुद्धिमान, सेय़ेहे तेओँ सकलो भाल नम्बৰ लाभ कৰिछिल।\n",
            "====================================================================================================\n",
            "English: We watched a new movie last week, which was very inspiring.\n",
            "Indic Translation: आमि योৱा सप्ताहत एखन नतुन चलच्चित्ৰ चाइछिलोँ, यिटो अति अनुप्ৰेৰणामूलक आछिल।\n",
            "====================================================================================================\n",
            "English: If you had met me at that time, we would have gone out to eat.\n",
            "Indic Translation: यदि आपुनि सेइ समय़त मोक लग पाइछिलहेँतेन, आमि खाबलै बाहिৰलै गैछिलोँहेतेन।\n",
            "====================================================================================================\n",
            "English: She went to the market with her sister to buy a new sari.\n",
            "Indic Translation: ताइ ताइৰ भनीय़ेकৰ सैते एटा नतुन शाৰी किनिबलै बजाৰलै गैछिल।\n",
            "====================================================================================================\n",
            "English: Raj told me that he is going to his grandmother's house next month.\n",
            "Indic Translation: ৰाजे मोक कैछिल ये तेओँ अहा माहत तेओँৰ ठाकुमाৰ घৰलै याब।\n",
            "====================================================================================================\n",
            "English: All the kids were having fun at the party and were eating lots of sweets.\n",
            "Indic Translation: सकलो शिशुৱे पाৰ्टित मजा कৰि आछिल आৰु बहुत मिठाइ खाइ आछिल।\n",
            "====================================================================================================\n",
            "English: My friend has invited me to his birthday party, and I will give him a gift.\n",
            "Indic Translation: मोৰ बन्धुৱे मोक तेओँৰ जन्मदिनৰ पाৰ्टिलै आमन्त्ৰण जनाइछे, आৰु मइ तेओँक एटा उपहाৰ दिम।\n",
            "====================================================================================================\n"
          ]
        }
      ]
    },
    {
      "cell_type": "markdown",
      "source": [
        "#Converting Sentences Indic to English Languages"
      ],
      "metadata": {
        "id": "NPTUMHw1Zg6Z"
      }
    },
    {
      "cell_type": "code",
      "source": [
        "tokenizer_indic_en = IndicTransTokenizer(direction=\"indic-en\")\n",
        "ip_indic_en = IndicProcessor(inference=True)\n",
        "model_indic_en = AutoModelForSeq2SeqLM.from_pretrained(\"ai4bharat/indictrans2-indic-en-dist-200M\", trust_remote_code=True)\n",
        "\n",
        "clear_output()"
      ],
      "metadata": {
        "id": "_L7uCXM0aqEi"
      },
      "execution_count": null,
      "outputs": []
    },
    {
      "cell_type": "code",
      "source": [
        "hindi_sentences = [\n",
        "    \"जब मैं छोटा था, मैं हर रोज़ पार्क जाता था।\",\n",
        "    \"उसके पास बहुत सारी पुरानी किताबें हैं, जिन्हें उसने अपने दादा-परदादा से विरासत में पाया।\",\n",
        "    \"मुझे समझ में नहीं आ रहा कि मैं अपनी समस्या का समाधान कैसे ढूंढूं।\",\n",
        "    \"वह बहुत मेहनती और समझदार है, इसलिए उसे सभी अच्छे मार्क्स मिले।\",\n",
        "    \"हमने पिछले सप्ताह एक नई फिल्म देखी जो कि बहुत प्रेरणादायक थी।\",\n",
        "    \"अगर तुम मुझे उस समय पास मिलते, तो हम बाहर खाना खाने चलते।\",\n",
        "    \"वह अपनी दीदी के साथ बाजार गयी थी ताकि वह नई साड़ी खरीद सके।\",\n",
        "    \"राज ने मुझसे कहा कि वह अगले महीने अपनी नानी के घर जा रहा है।\",\n",
        "    \"सभी बच्चे पार्टी में मज़ा कर रहे थे और खूब सारी मिठाइयाँ खा रहे थे।\",\n",
        "    \"मेरे मित्र ने मुझे उसके जन्मदिन की पार्टी में बुलाया है, और मैं उसे एक तोहफा दूंगा।\",\n",
        "]"
      ],
      "metadata": {
        "id": "HY7lUvBCZ56F"
      },
      "execution_count": null,
      "outputs": []
    },
    {
      "cell_type": "code",
      "source": [
        "batch = ip_indic_en.preprocess_batch(hindi_sentences, src_lang=\"hin_Deva\", tgt_lang=\"eng_Latn\")\n",
        "batch = tokenizer_indic_en(batch, src=True, return_tensors=\"pt\")\n",
        "\n",
        "with torch.inference_mode():\n",
        "    outputs = model_indic_en.generate(**batch, num_beams=5, num_return_sequences=1, max_length=256)\n",
        "\n",
        "outputs = tokenizer_indic_en.batch_decode(outputs, src=False)\n",
        "outputs = ip_indic_en.postprocess_batch(outputs, lang=\"eng_Latn\")"
      ],
      "metadata": {
        "id": "9olJtlNwYzku"
      },
      "execution_count": null,
      "outputs": []
    },
    {
      "cell_type": "code",
      "source": [
        "print(f\"Converting Indic to English Language:\\n\")\n",
        "for i in range(len(outputs)):\n",
        "    print(f\"Indic: {hindi_sentences[i]}\\nEnglish Translation: {outputs[i]}\")\n",
        "    print(\"=\"*100)"
      ],
      "metadata": {
        "colab": {
          "base_uri": "https://localhost:8080/"
        },
        "id": "aN5w-KPFZss0",
        "outputId": "f3892717-4b34-4745-dc97-94c1c8b2d7e3"
      },
      "execution_count": null,
      "outputs": [
        {
          "output_type": "stream",
          "name": "stdout",
          "text": [
            "Converting Indic to English Language:\n",
            "\n",
            "Indic: जब मैं छोटा था, मैं हर रोज़ पार्क जाता था।\n",
            "English Translation: When I was young, I used to go to the park every day.\n",
            "====================================================================================================\n",
            "Indic: उसके पास बहुत सारी पुरानी किताबें हैं, जिन्हें उसने अपने दादा-परदादा से विरासत में पाया।\n",
            "English Translation: He has a lot of old books, which he inherited from his grandparents.\n",
            "====================================================================================================\n",
            "Indic: मुझे समझ में नहीं आ रहा कि मैं अपनी समस्या का समाधान कैसे ढूंढूं।\n",
            "English Translation: I can't figure out how to find a solution to my problem.\n",
            "====================================================================================================\n",
            "Indic: वह बहुत मेहनती और समझदार है, इसलिए उसे सभी अच्छे मार्क्स मिले।\n",
            "English Translation: He is very hardworking and understanding, so he got all the good marks.\n",
            "====================================================================================================\n",
            "Indic: हमने पिछले सप्ताह एक नई फिल्म देखी जो कि बहुत प्रेरणादायक थी।\n",
            "English Translation: We saw a new film last week which was very inspiring.\n",
            "====================================================================================================\n",
            "Indic: अगर तुम मुझे उस समय पास मिलते, तो हम बाहर खाना खाने चलते।\n",
            "English Translation: If you found me nearby at that time, we would go out to eat.\n",
            "====================================================================================================\n",
            "Indic: वह अपनी दीदी के साथ बाजार गयी थी ताकि वह नई साड़ी खरीद सके।\n",
            "English Translation: She had gone to the market with her sister-in-law so that she could buy a new sari.\n",
            "====================================================================================================\n",
            "Indic: राज ने मुझसे कहा कि वह अगले महीने अपनी नानी के घर जा रहा है।\n",
            "English Translation: Raj told me that he was going to his grandmother's house next month.\n",
            "====================================================================================================\n",
            "Indic: सभी बच्चे पार्टी में मज़ा कर रहे थे और खूब सारी मिठाइयाँ खा रहे थे।\n",
            "English Translation: All the children were having fun at the party and eating a lot of sweets.\n",
            "====================================================================================================\n",
            "Indic: मेरे मित्र ने मुझे उसके जन्मदिन की पार्टी में बुलाया है, और मैं उसे एक तोहफा दूंगा।\n",
            "English Translation: My friend has invited me to her birthday party, and I will give her a gift.\n",
            "====================================================================================================\n"
          ]
        }
      ]
    },
    {
      "cell_type": "code",
      "source": [],
      "metadata": {
        "id": "vSMHhUbRaHh6"
      },
      "execution_count": null,
      "outputs": []
    }
  ]
}